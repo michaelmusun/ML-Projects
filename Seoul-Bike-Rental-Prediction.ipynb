{
  "nbformat": 4,
  "nbformat_minor": 0,
  "metadata": {
    "colab": {
      "name": "SeoulBike.ipynb",
      "provenance": [],
      "collapsed_sections": [],
      "include_colab_link": true
    },
    "kernelspec": {
      "name": "python3",
      "display_name": "Python 3"
    },
    "language_info": {
      "name": "python"
    }
  },
  "cells": [
    {
      "cell_type": "markdown",
      "metadata": {
        "id": "view-in-github",
        "colab_type": "text"
      },
      "source": [
        "<a href=\"https://colab.research.google.com/github/michaelmusun/ML-Projects/blob/main/Seoul-Bike-Rental-Prediction.ipynb\" target=\"_parent\"><img src=\"https://colab.research.google.com/assets/colab-badge.svg\" alt=\"Open In Colab\"/></a>"
      ]
    },
    {
      "cell_type": "code",
      "execution_count": null,
      "metadata": {
        "id": "QeS4t6NKplje"
      },
      "outputs": [],
      "source": [
        "import pandas as pd\n",
        "import numpy as np\n",
        "from sklearn import preprocessing\n",
        "from sklearn.preprocessing import LabelEncoder \n",
        "\n",
        "from sklearn.preprocessing import OneHotEncoder \n",
        "from sklearn.compose import ColumnTransformer \n",
        "\n",
        "import matplotlib.pyplot as plt\n",
        "from matplotlib.pyplot import figure\n",
        "import seaborn as sns\n",
        "\n",
        "import sklearn\n",
        "from sklearn.decomposition import PCA\n",
        "from sklearn.cluster import KMeans\n",
        "from sklearn.cluster import DBSCAN\n",
        "from sklearn.cluster import AgglomerativeClustering\n",
        "from sklearn.metrics import silhouette_score\n",
        "from sklearn import metrics\n",
        "from yellowbrick.cluster import SilhouetteVisualizer\n",
        "\n",
        "import time\n",
        "import warnings\n",
        "warnings.filterwarnings('ignore')\n"
      ]
    },
    {
      "cell_type": "code",
      "source": [
        "# Seoul bike-sharing demand data \n",
        "# Data import\n",
        "\n",
        "bikedata = pd.read_csv('SeoulBikeData.csv',encoding= 'unicode_escape')\n",
        "# reading dataset\n",
        "#print (bikedata.head())\n"
      ],
      "metadata": {
        "id": "Muxa2Lcop60Y"
      },
      "execution_count": null,
      "outputs": []
    },
    {
      "cell_type": "code",
      "source": [
        "print(bikedata.columns)"
      ],
      "metadata": {
        "colab": {
          "base_uri": "https://localhost:8080/"
        },
        "id": "wTAqn6xhp-Wd",
        "outputId": "f23ea7be-9822-4710-f702-08617d27363b"
      },
      "execution_count": null,
      "outputs": [
        {
          "output_type": "stream",
          "name": "stdout",
          "text": [
            "Index(['Date', 'Rented Bike Count', 'Hour', 'Temperature(°C)', 'Humidity(%)',\n",
            "       'Wind speed (m/s)', 'Visibility (10m)', 'Dew point temperature(°C)',\n",
            "       'Solar Radiation (MJ/m2)', 'Rainfall(mm)', 'Snowfall (cm)', 'Seasons',\n",
            "       'Holiday', 'Functioning Day'],\n",
            "      dtype='object')\n"
          ]
        }
      ]
    },
    {
      "cell_type": "code",
      "source": [
        "# check for missing values\n",
        "print (bikedata.isnull().sum())"
      ],
      "metadata": {
        "colab": {
          "base_uri": "https://localhost:8080/"
        },
        "id": "TDAJ6XX0qAuV",
        "outputId": "a1ee54ea-f9c4-4248-b8b4-fe2179c0ccdc"
      },
      "execution_count": null,
      "outputs": [
        {
          "output_type": "stream",
          "name": "stdout",
          "text": [
            "Date                         0\n",
            "Rented Bike Count            0\n",
            "Hour                         0\n",
            "Temperature(°C)              0\n",
            "Humidity(%)                  0\n",
            "Wind speed (m/s)             0\n",
            "Visibility (10m)             0\n",
            "Dew point temperature(°C)    0\n",
            "Solar Radiation (MJ/m2)      0\n",
            "Rainfall(mm)                 0\n",
            "Snowfall (cm)                0\n",
            "Seasons                      0\n",
            "Holiday                      0\n",
            "Functioning Day              0\n",
            "dtype: int64\n"
          ]
        }
      ]
    },
    {
      "cell_type": "code",
      "source": [
        "bikedata['Date'] = pd.to_datetime(bikedata['Date'], errors='coerce')"
      ],
      "metadata": {
        "id": "uVVzTPCzRHhe"
      },
      "execution_count": null,
      "outputs": []
    },
    {
      "cell_type": "code",
      "source": [
        "bikedata['WeekDay']=bikedata['Date'].dt.day_name()"
      ],
      "metadata": {
        "id": "fsNN9K_uRN_n"
      },
      "execution_count": null,
      "outputs": []
    },
    {
      "cell_type": "code",
      "source": [
        "bikedata['Month']=bikedata['Date'].dt.month"
      ],
      "metadata": {
        "id": "_B_FQFSQRVbK"
      },
      "execution_count": null,
      "outputs": []
    },
    {
      "cell_type": "code",
      "source": [
        "label_encoder = LabelEncoder()\n",
        "# Encode labels in column 'Seasons'.\n",
        "bikedata['Seasons']= label_encoder.fit_transform(bikedata['Seasons'])\n",
        "bikedata['Seasons'].unique()\n",
        "\n",
        "# Encode labels in column 'Holiday'.\n",
        "bikedata['Holiday']= label_encoder.fit_transform(bikedata['Holiday'])\n",
        "bikedata['Holiday'].unique()\n",
        "\n",
        "# Encode labels in column 'Functioning Day'.\n",
        "bikedata['Functioning Day']= label_encoder.fit_transform(bikedata['Functioning Day'])\n",
        "bikedata['Functioning Day'].unique()\n",
        "\n",
        "# Encode labels in column 'Week Day'.\n",
        "bikedata['WeekDay']= label_encoder.fit_transform(bikedata['WeekDay'])\n",
        "bikedata['WeekDay'].unique()\n"
      ],
      "metadata": {
        "colab": {
          "base_uri": "https://localhost:8080/"
        },
        "id": "gENvdlYGRb7L",
        "outputId": "2f595d6b-8ffb-4ea5-a8f0-f1a79735721d"
      },
      "execution_count": null,
      "outputs": [
        {
          "output_type": "execute_result",
          "data": {
            "text/plain": [
              "array([4, 3, 6, 0, 1, 2, 5])"
            ]
          },
          "metadata": {},
          "execution_count": 11
        }
      ]
    },
    {
      "cell_type": "code",
      "source": [
        "bikedata"
      ],
      "metadata": {
        "colab": {
          "base_uri": "https://localhost:8080/",
          "height": 424
        },
        "id": "Pjes0StrRrAN",
        "outputId": "cdcd06e4-41d6-4d4e-f91a-34b30957ea55"
      },
      "execution_count": null,
      "outputs": [
        {
          "output_type": "execute_result",
          "data": {
            "text/plain": [
              "           Date  Rented Bike Count  Hour  Temperature(°C)  Humidity(%)  \\\n",
              "0    2017-01-12                254     0             -5.2           37   \n",
              "1    2017-01-12                204     1             -5.5           38   \n",
              "2    2017-01-12                173     2             -6.0           39   \n",
              "3    2017-01-12                107     3             -6.2           40   \n",
              "4    2017-01-12                 78     4             -6.0           36   \n",
              "...         ...                ...   ...              ...          ...   \n",
              "8755 2018-11-30               1003    19              4.2           34   \n",
              "8756 2018-11-30                764    20              3.4           37   \n",
              "8757 2018-11-30                694    21              2.6           39   \n",
              "8758 2018-11-30                712    22              2.1           41   \n",
              "8759 2018-11-30                584    23              1.9           43   \n",
              "\n",
              "      Wind speed (m/s)  Visibility (10m)  Dew point temperature(°C)  \\\n",
              "0                  2.2              2000                      -17.6   \n",
              "1                  0.8              2000                      -17.6   \n",
              "2                  1.0              2000                      -17.7   \n",
              "3                  0.9              2000                      -17.6   \n",
              "4                  2.3              2000                      -18.6   \n",
              "...                ...               ...                        ...   \n",
              "8755               2.6              1894                      -10.3   \n",
              "8756               2.3              2000                       -9.9   \n",
              "8757               0.3              1968                       -9.9   \n",
              "8758               1.0              1859                       -9.8   \n",
              "8759               1.3              1909                       -9.3   \n",
              "\n",
              "      Solar Radiation (MJ/m2)  Rainfall(mm)  Snowfall (cm)  Seasons  Holiday  \\\n",
              "0                         0.0           0.0            0.0        3        1   \n",
              "1                         0.0           0.0            0.0        3        1   \n",
              "2                         0.0           0.0            0.0        3        1   \n",
              "3                         0.0           0.0            0.0        3        1   \n",
              "4                         0.0           0.0            0.0        3        1   \n",
              "...                       ...           ...            ...      ...      ...   \n",
              "8755                      0.0           0.0            0.0        0        1   \n",
              "8756                      0.0           0.0            0.0        0        1   \n",
              "8757                      0.0           0.0            0.0        0        1   \n",
              "8758                      0.0           0.0            0.0        0        1   \n",
              "8759                      0.0           0.0            0.0        0        1   \n",
              "\n",
              "      Functioning Day  WeekDay  Month  \n",
              "0                   1        4      1  \n",
              "1                   1        4      1  \n",
              "2                   1        4      1  \n",
              "3                   1        4      1  \n",
              "4                   1        4      1  \n",
              "...               ...      ...    ...  \n",
              "8755                1        0     11  \n",
              "8756                1        0     11  \n",
              "8757                1        0     11  \n",
              "8758                1        0     11  \n",
              "8759                1        0     11  \n",
              "\n",
              "[8760 rows x 16 columns]"
            ],
            "text/html": [
              "\n",
              "  <div id=\"df-cb3f65d6-bd0b-41ef-9f37-6e1e278d8f82\">\n",
              "    <div class=\"colab-df-container\">\n",
              "      <div>\n",
              "<style scoped>\n",
              "    .dataframe tbody tr th:only-of-type {\n",
              "        vertical-align: middle;\n",
              "    }\n",
              "\n",
              "    .dataframe tbody tr th {\n",
              "        vertical-align: top;\n",
              "    }\n",
              "\n",
              "    .dataframe thead th {\n",
              "        text-align: right;\n",
              "    }\n",
              "</style>\n",
              "<table border=\"1\" class=\"dataframe\">\n",
              "  <thead>\n",
              "    <tr style=\"text-align: right;\">\n",
              "      <th></th>\n",
              "      <th>Date</th>\n",
              "      <th>Rented Bike Count</th>\n",
              "      <th>Hour</th>\n",
              "      <th>Temperature(°C)</th>\n",
              "      <th>Humidity(%)</th>\n",
              "      <th>Wind speed (m/s)</th>\n",
              "      <th>Visibility (10m)</th>\n",
              "      <th>Dew point temperature(°C)</th>\n",
              "      <th>Solar Radiation (MJ/m2)</th>\n",
              "      <th>Rainfall(mm)</th>\n",
              "      <th>Snowfall (cm)</th>\n",
              "      <th>Seasons</th>\n",
              "      <th>Holiday</th>\n",
              "      <th>Functioning Day</th>\n",
              "      <th>WeekDay</th>\n",
              "      <th>Month</th>\n",
              "    </tr>\n",
              "  </thead>\n",
              "  <tbody>\n",
              "    <tr>\n",
              "      <th>0</th>\n",
              "      <td>2017-01-12</td>\n",
              "      <td>254</td>\n",
              "      <td>0</td>\n",
              "      <td>-5.2</td>\n",
              "      <td>37</td>\n",
              "      <td>2.2</td>\n",
              "      <td>2000</td>\n",
              "      <td>-17.6</td>\n",
              "      <td>0.0</td>\n",
              "      <td>0.0</td>\n",
              "      <td>0.0</td>\n",
              "      <td>3</td>\n",
              "      <td>1</td>\n",
              "      <td>1</td>\n",
              "      <td>4</td>\n",
              "      <td>1</td>\n",
              "    </tr>\n",
              "    <tr>\n",
              "      <th>1</th>\n",
              "      <td>2017-01-12</td>\n",
              "      <td>204</td>\n",
              "      <td>1</td>\n",
              "      <td>-5.5</td>\n",
              "      <td>38</td>\n",
              "      <td>0.8</td>\n",
              "      <td>2000</td>\n",
              "      <td>-17.6</td>\n",
              "      <td>0.0</td>\n",
              "      <td>0.0</td>\n",
              "      <td>0.0</td>\n",
              "      <td>3</td>\n",
              "      <td>1</td>\n",
              "      <td>1</td>\n",
              "      <td>4</td>\n",
              "      <td>1</td>\n",
              "    </tr>\n",
              "    <tr>\n",
              "      <th>2</th>\n",
              "      <td>2017-01-12</td>\n",
              "      <td>173</td>\n",
              "      <td>2</td>\n",
              "      <td>-6.0</td>\n",
              "      <td>39</td>\n",
              "      <td>1.0</td>\n",
              "      <td>2000</td>\n",
              "      <td>-17.7</td>\n",
              "      <td>0.0</td>\n",
              "      <td>0.0</td>\n",
              "      <td>0.0</td>\n",
              "      <td>3</td>\n",
              "      <td>1</td>\n",
              "      <td>1</td>\n",
              "      <td>4</td>\n",
              "      <td>1</td>\n",
              "    </tr>\n",
              "    <tr>\n",
              "      <th>3</th>\n",
              "      <td>2017-01-12</td>\n",
              "      <td>107</td>\n",
              "      <td>3</td>\n",
              "      <td>-6.2</td>\n",
              "      <td>40</td>\n",
              "      <td>0.9</td>\n",
              "      <td>2000</td>\n",
              "      <td>-17.6</td>\n",
              "      <td>0.0</td>\n",
              "      <td>0.0</td>\n",
              "      <td>0.0</td>\n",
              "      <td>3</td>\n",
              "      <td>1</td>\n",
              "      <td>1</td>\n",
              "      <td>4</td>\n",
              "      <td>1</td>\n",
              "    </tr>\n",
              "    <tr>\n",
              "      <th>4</th>\n",
              "      <td>2017-01-12</td>\n",
              "      <td>78</td>\n",
              "      <td>4</td>\n",
              "      <td>-6.0</td>\n",
              "      <td>36</td>\n",
              "      <td>2.3</td>\n",
              "      <td>2000</td>\n",
              "      <td>-18.6</td>\n",
              "      <td>0.0</td>\n",
              "      <td>0.0</td>\n",
              "      <td>0.0</td>\n",
              "      <td>3</td>\n",
              "      <td>1</td>\n",
              "      <td>1</td>\n",
              "      <td>4</td>\n",
              "      <td>1</td>\n",
              "    </tr>\n",
              "    <tr>\n",
              "      <th>...</th>\n",
              "      <td>...</td>\n",
              "      <td>...</td>\n",
              "      <td>...</td>\n",
              "      <td>...</td>\n",
              "      <td>...</td>\n",
              "      <td>...</td>\n",
              "      <td>...</td>\n",
              "      <td>...</td>\n",
              "      <td>...</td>\n",
              "      <td>...</td>\n",
              "      <td>...</td>\n",
              "      <td>...</td>\n",
              "      <td>...</td>\n",
              "      <td>...</td>\n",
              "      <td>...</td>\n",
              "      <td>...</td>\n",
              "    </tr>\n",
              "    <tr>\n",
              "      <th>8755</th>\n",
              "      <td>2018-11-30</td>\n",
              "      <td>1003</td>\n",
              "      <td>19</td>\n",
              "      <td>4.2</td>\n",
              "      <td>34</td>\n",
              "      <td>2.6</td>\n",
              "      <td>1894</td>\n",
              "      <td>-10.3</td>\n",
              "      <td>0.0</td>\n",
              "      <td>0.0</td>\n",
              "      <td>0.0</td>\n",
              "      <td>0</td>\n",
              "      <td>1</td>\n",
              "      <td>1</td>\n",
              "      <td>0</td>\n",
              "      <td>11</td>\n",
              "    </tr>\n",
              "    <tr>\n",
              "      <th>8756</th>\n",
              "      <td>2018-11-30</td>\n",
              "      <td>764</td>\n",
              "      <td>20</td>\n",
              "      <td>3.4</td>\n",
              "      <td>37</td>\n",
              "      <td>2.3</td>\n",
              "      <td>2000</td>\n",
              "      <td>-9.9</td>\n",
              "      <td>0.0</td>\n",
              "      <td>0.0</td>\n",
              "      <td>0.0</td>\n",
              "      <td>0</td>\n",
              "      <td>1</td>\n",
              "      <td>1</td>\n",
              "      <td>0</td>\n",
              "      <td>11</td>\n",
              "    </tr>\n",
              "    <tr>\n",
              "      <th>8757</th>\n",
              "      <td>2018-11-30</td>\n",
              "      <td>694</td>\n",
              "      <td>21</td>\n",
              "      <td>2.6</td>\n",
              "      <td>39</td>\n",
              "      <td>0.3</td>\n",
              "      <td>1968</td>\n",
              "      <td>-9.9</td>\n",
              "      <td>0.0</td>\n",
              "      <td>0.0</td>\n",
              "      <td>0.0</td>\n",
              "      <td>0</td>\n",
              "      <td>1</td>\n",
              "      <td>1</td>\n",
              "      <td>0</td>\n",
              "      <td>11</td>\n",
              "    </tr>\n",
              "    <tr>\n",
              "      <th>8758</th>\n",
              "      <td>2018-11-30</td>\n",
              "      <td>712</td>\n",
              "      <td>22</td>\n",
              "      <td>2.1</td>\n",
              "      <td>41</td>\n",
              "      <td>1.0</td>\n",
              "      <td>1859</td>\n",
              "      <td>-9.8</td>\n",
              "      <td>0.0</td>\n",
              "      <td>0.0</td>\n",
              "      <td>0.0</td>\n",
              "      <td>0</td>\n",
              "      <td>1</td>\n",
              "      <td>1</td>\n",
              "      <td>0</td>\n",
              "      <td>11</td>\n",
              "    </tr>\n",
              "    <tr>\n",
              "      <th>8759</th>\n",
              "      <td>2018-11-30</td>\n",
              "      <td>584</td>\n",
              "      <td>23</td>\n",
              "      <td>1.9</td>\n",
              "      <td>43</td>\n",
              "      <td>1.3</td>\n",
              "      <td>1909</td>\n",
              "      <td>-9.3</td>\n",
              "      <td>0.0</td>\n",
              "      <td>0.0</td>\n",
              "      <td>0.0</td>\n",
              "      <td>0</td>\n",
              "      <td>1</td>\n",
              "      <td>1</td>\n",
              "      <td>0</td>\n",
              "      <td>11</td>\n",
              "    </tr>\n",
              "  </tbody>\n",
              "</table>\n",
              "<p>8760 rows × 16 columns</p>\n",
              "</div>\n",
              "      <button class=\"colab-df-convert\" onclick=\"convertToInteractive('df-cb3f65d6-bd0b-41ef-9f37-6e1e278d8f82')\"\n",
              "              title=\"Convert this dataframe to an interactive table.\"\n",
              "              style=\"display:none;\">\n",
              "        \n",
              "  <svg xmlns=\"http://www.w3.org/2000/svg\" height=\"24px\"viewBox=\"0 0 24 24\"\n",
              "       width=\"24px\">\n",
              "    <path d=\"M0 0h24v24H0V0z\" fill=\"none\"/>\n",
              "    <path d=\"M18.56 5.44l.94 2.06.94-2.06 2.06-.94-2.06-.94-.94-2.06-.94 2.06-2.06.94zm-11 1L8.5 8.5l.94-2.06 2.06-.94-2.06-.94L8.5 2.5l-.94 2.06-2.06.94zm10 10l.94 2.06.94-2.06 2.06-.94-2.06-.94-.94-2.06-.94 2.06-2.06.94z\"/><path d=\"M17.41 7.96l-1.37-1.37c-.4-.4-.92-.59-1.43-.59-.52 0-1.04.2-1.43.59L10.3 9.45l-7.72 7.72c-.78.78-.78 2.05 0 2.83L4 21.41c.39.39.9.59 1.41.59.51 0 1.02-.2 1.41-.59l7.78-7.78 2.81-2.81c.8-.78.8-2.07 0-2.86zM5.41 20L4 18.59l7.72-7.72 1.47 1.35L5.41 20z\"/>\n",
              "  </svg>\n",
              "      </button>\n",
              "      \n",
              "  <style>\n",
              "    .colab-df-container {\n",
              "      display:flex;\n",
              "      flex-wrap:wrap;\n",
              "      gap: 12px;\n",
              "    }\n",
              "\n",
              "    .colab-df-convert {\n",
              "      background-color: #E8F0FE;\n",
              "      border: none;\n",
              "      border-radius: 50%;\n",
              "      cursor: pointer;\n",
              "      display: none;\n",
              "      fill: #1967D2;\n",
              "      height: 32px;\n",
              "      padding: 0 0 0 0;\n",
              "      width: 32px;\n",
              "    }\n",
              "\n",
              "    .colab-df-convert:hover {\n",
              "      background-color: #E2EBFA;\n",
              "      box-shadow: 0px 1px 2px rgba(60, 64, 67, 0.3), 0px 1px 3px 1px rgba(60, 64, 67, 0.15);\n",
              "      fill: #174EA6;\n",
              "    }\n",
              "\n",
              "    [theme=dark] .colab-df-convert {\n",
              "      background-color: #3B4455;\n",
              "      fill: #D2E3FC;\n",
              "    }\n",
              "\n",
              "    [theme=dark] .colab-df-convert:hover {\n",
              "      background-color: #434B5C;\n",
              "      box-shadow: 0px 1px 3px 1px rgba(0, 0, 0, 0.15);\n",
              "      filter: drop-shadow(0px 1px 2px rgba(0, 0, 0, 0.3));\n",
              "      fill: #FFFFFF;\n",
              "    }\n",
              "  </style>\n",
              "\n",
              "      <script>\n",
              "        const buttonEl =\n",
              "          document.querySelector('#df-cb3f65d6-bd0b-41ef-9f37-6e1e278d8f82 button.colab-df-convert');\n",
              "        buttonEl.style.display =\n",
              "          google.colab.kernel.accessAllowed ? 'block' : 'none';\n",
              "\n",
              "        async function convertToInteractive(key) {\n",
              "          const element = document.querySelector('#df-cb3f65d6-bd0b-41ef-9f37-6e1e278d8f82');\n",
              "          const dataTable =\n",
              "            await google.colab.kernel.invokeFunction('convertToInteractive',\n",
              "                                                     [key], {});\n",
              "          if (!dataTable) return;\n",
              "\n",
              "          const docLinkHtml = 'Like what you see? Visit the ' +\n",
              "            '<a target=\"_blank\" href=https://colab.research.google.com/notebooks/data_table.ipynb>data table notebook</a>'\n",
              "            + ' to learn more about interactive tables.';\n",
              "          element.innerHTML = '';\n",
              "          dataTable['output_type'] = 'display_data';\n",
              "          await google.colab.output.renderOutput(dataTable, element);\n",
              "          const docLink = document.createElement('div');\n",
              "          docLink.innerHTML = docLinkHtml;\n",
              "          element.appendChild(docLink);\n",
              "        }\n",
              "      </script>\n",
              "    </div>\n",
              "  </div>\n",
              "  "
            ]
          },
          "metadata": {},
          "execution_count": 13
        }
      ]
    },
    {
      "cell_type": "code",
      "source": [
        "bikedata['Temperature(°C)'].plot(kind='hist')\n",
        "plt.show()"
      ],
      "metadata": {
        "id": "4U5fAJScSBys"
      },
      "execution_count": null,
      "outputs": []
    },
    {
      "cell_type": "code",
      "source": [
        "bikedata['Humidity(%)'].plot(kind='hist')\n",
        "plt.show()"
      ],
      "metadata": {
        "id": "cjWFejlFSMUI"
      },
      "execution_count": null,
      "outputs": []
    },
    {
      "cell_type": "code",
      "source": [
        "bikedata['Wind speed (m/s)'].plot(kind='hist')\n",
        "plt.show()"
      ],
      "metadata": {
        "id": "HAqzNBL2SQaM"
      },
      "execution_count": null,
      "outputs": []
    },
    {
      "cell_type": "code",
      "source": [
        "bikedata['Visibility (10m)'].plot(kind='hist')\n",
        "plt.show()"
      ],
      "metadata": {
        "id": "pIxG-z7_SYcH"
      },
      "execution_count": null,
      "outputs": []
    },
    {
      "cell_type": "code",
      "source": [
        "bikedata['Solar Radiation (MJ/m2)'].plot(kind='hist')\n",
        "plt.show()"
      ],
      "metadata": {
        "id": "JLsj3hIzSd8D"
      },
      "execution_count": null,
      "outputs": []
    },
    {
      "cell_type": "code",
      "source": [
        "bikedata['Rainfall(mm)'].plot(kind='hist')\n",
        "plt.show()"
      ],
      "metadata": {
        "id": "G8Hh-8C4ShZF"
      },
      "execution_count": null,
      "outputs": []
    },
    {
      "cell_type": "code",
      "source": [
        "plt.title(\"Hours\")\n",
        "bikedata['Hour'].value_counts().plot(kind='pie')\n",
        "plt.show()"
      ],
      "metadata": {
        "id": "UijaHRjtR4fN"
      },
      "execution_count": null,
      "outputs": []
    },
    {
      "cell_type": "code",
      "source": [
        "plt.title(\"Months\")\n",
        "bikedata['Month'].value_counts().plot(kind='pie')\n",
        "plt.show()"
      ],
      "metadata": {
        "id": "651e-40GSz9J"
      },
      "execution_count": null,
      "outputs": []
    },
    {
      "cell_type": "code",
      "source": [
        "bikedata.skew().sort_values(ascending=True) # Snowfall and Rainfall are highly skewed"
      ],
      "metadata": {
        "colab": {
          "base_uri": "https://localhost:8080/"
        },
        "id": "8mWRw4yUS6GD",
        "outputId": "e46585be-3842-48f6-cc56-77c6871093a1"
      },
      "execution_count": null,
      "outputs": [
        {
          "output_type": "stream",
          "name": "stderr",
          "text": [
            "/usr/local/lib/python3.7/dist-packages/ipykernel_launcher.py:1: FutureWarning: Dropping of nuisance columns in DataFrame reductions (with 'numeric_only=None') is deprecated; in a future version this will raise TypeError.  Select only valid columns before calling the reduction.\n",
            "  \"\"\"Entry point for launching an IPython kernel.\n"
          ]
        },
        {
          "output_type": "execute_result",
          "data": {
            "text/plain": [
              "Functioning Day              -5.170969\n",
              "Holiday                      -4.163603\n",
              "Visibility (10m)             -0.701786\n",
              "Dew point temperature(°C)    -0.367298\n",
              "Temperature(°C)              -0.198326\n",
              "WeekDay                      -0.022521\n",
              "Month                        -0.010458\n",
              "Hour                          0.000000\n",
              "Seasons                       0.004382\n",
              "Humidity(%)                   0.059579\n",
              "Wind speed (m/s)              0.890955\n",
              "Rented Bike Count             1.153428\n",
              "Solar Radiation (MJ/m2)       1.504040\n",
              "Snowfall (cm)                 8.440801\n",
              "Rainfall(mm)                 14.533232\n",
              "dtype: float64"
            ]
          },
          "metadata": {},
          "execution_count": 22
        }
      ]
    },
    {
      "cell_type": "code",
      "source": [
        "corrMatrix = bikedata.corr()\n",
        "\n",
        "fig, ax = plt.subplots(figsize=(12,12)) # Sample figsize in inches\n",
        "sns.heatmap(corrMatrix, annot=True, linewidths=.5, ax=ax)\n",
        "plt.show()"
      ],
      "metadata": {
        "id": "ChBCBXSlTFK6"
      },
      "execution_count": null,
      "outputs": []
    },
    {
      "cell_type": "markdown",
      "source": [
        "Label encoding for 'Seasons' , 'Holiday' , 'Functioning Day'"
      ],
      "metadata": {
        "id": "4AlRWXyyqEFL"
      }
    },
    {
      "cell_type": "code",
      "source": [
        "plt.figure(figsize=(5, 10))\n",
        "heatmap = sns.heatmap(corrMatrix[['Rented Bike Count']].sort_values(by='Rented Bike Count', ascending=False), vmin=-1, vmax=1, annot=True, cmap='BrBG')\n",
        "heatmap.set_title('Features Correlating with Rented Bike Count', fontdict={'fontsize':18}, pad=16);"
      ],
      "metadata": {
        "id": "76Z8f49GqJmn"
      },
      "execution_count": null,
      "outputs": []
    },
    {
      "cell_type": "code",
      "source": [
        "rented_bike_corr = pd.DataFrame(corrMatrix.iloc[:, 0])"
      ],
      "metadata": {
        "id": "BEHCAScwVize"
      },
      "execution_count": null,
      "outputs": []
    },
    {
      "cell_type": "code",
      "source": [
        "significant = rented_bike_corr[abs(rented_bike_corr) >= 0.05]\n",
        "significant['Use'] = significant['Rented Bike Count'].notna()"
      ],
      "metadata": {
        "id": "MtmRSieAV0Y8"
      },
      "execution_count": null,
      "outputs": []
    },
    {
      "cell_type": "code",
      "source": [
        "significant_col = significant.index[significant['Use']].tolist()\n",
        "significant_col.remove('Rented Bike Count')\n",
        "significant_col.remove('Dew point temperature(°C)') # Due to high correlation with regular temperature\n",
        "significant_col.remove('Rainfall(mm)') # Highly skewed towards 0\n",
        "significant_col.remove('Snowfall (cm)') # Highly skewed towards 0\n",
        "print(significant_col)"
      ],
      "metadata": {
        "colab": {
          "base_uri": "https://localhost:8080/"
        },
        "id": "v7vhJ7D5V6TW",
        "outputId": "6c146d8f-d79f-4eee-eb28-5ee0f1360f93"
      },
      "execution_count": null,
      "outputs": [
        {
          "output_type": "stream",
          "name": "stdout",
          "text": [
            "['Hour', 'Temperature(°C)', 'Humidity(%)', 'Wind speed (m/s)', 'Visibility (10m)', 'Solar Radiation (MJ/m2)', 'Seasons', 'Holiday', 'Functioning Day', 'Month']\n"
          ]
        }
      ]
    },
    {
      "cell_type": "code",
      "source": [
        "bikedata[significant_col]"
      ],
      "metadata": {
        "colab": {
          "base_uri": "https://localhost:8080/",
          "height": 424
        },
        "id": "KIBGB-15WCjL",
        "outputId": "ba842199-6900-47cb-fc12-03f206432cc0"
      },
      "execution_count": null,
      "outputs": [
        {
          "output_type": "execute_result",
          "data": {
            "text/plain": [
              "      Hour  Temperature(°C)  Humidity(%)  Wind speed (m/s)  Visibility (10m)  \\\n",
              "0        0             -5.2           37               2.2              2000   \n",
              "1        1             -5.5           38               0.8              2000   \n",
              "2        2             -6.0           39               1.0              2000   \n",
              "3        3             -6.2           40               0.9              2000   \n",
              "4        4             -6.0           36               2.3              2000   \n",
              "...    ...              ...          ...               ...               ...   \n",
              "8755    19              4.2           34               2.6              1894   \n",
              "8756    20              3.4           37               2.3              2000   \n",
              "8757    21              2.6           39               0.3              1968   \n",
              "8758    22              2.1           41               1.0              1859   \n",
              "8759    23              1.9           43               1.3              1909   \n",
              "\n",
              "      Solar Radiation (MJ/m2)  Seasons  Holiday  Functioning Day  Month  \n",
              "0                         0.0        3        1                1      1  \n",
              "1                         0.0        3        1                1      1  \n",
              "2                         0.0        3        1                1      1  \n",
              "3                         0.0        3        1                1      1  \n",
              "4                         0.0        3        1                1      1  \n",
              "...                       ...      ...      ...              ...    ...  \n",
              "8755                      0.0        0        1                1     11  \n",
              "8756                      0.0        0        1                1     11  \n",
              "8757                      0.0        0        1                1     11  \n",
              "8758                      0.0        0        1                1     11  \n",
              "8759                      0.0        0        1                1     11  \n",
              "\n",
              "[8760 rows x 10 columns]"
            ],
            "text/html": [
              "\n",
              "  <div id=\"df-1a127396-192b-449d-a807-7afc62c39409\">\n",
              "    <div class=\"colab-df-container\">\n",
              "      <div>\n",
              "<style scoped>\n",
              "    .dataframe tbody tr th:only-of-type {\n",
              "        vertical-align: middle;\n",
              "    }\n",
              "\n",
              "    .dataframe tbody tr th {\n",
              "        vertical-align: top;\n",
              "    }\n",
              "\n",
              "    .dataframe thead th {\n",
              "        text-align: right;\n",
              "    }\n",
              "</style>\n",
              "<table border=\"1\" class=\"dataframe\">\n",
              "  <thead>\n",
              "    <tr style=\"text-align: right;\">\n",
              "      <th></th>\n",
              "      <th>Hour</th>\n",
              "      <th>Temperature(°C)</th>\n",
              "      <th>Humidity(%)</th>\n",
              "      <th>Wind speed (m/s)</th>\n",
              "      <th>Visibility (10m)</th>\n",
              "      <th>Solar Radiation (MJ/m2)</th>\n",
              "      <th>Seasons</th>\n",
              "      <th>Holiday</th>\n",
              "      <th>Functioning Day</th>\n",
              "      <th>Month</th>\n",
              "    </tr>\n",
              "  </thead>\n",
              "  <tbody>\n",
              "    <tr>\n",
              "      <th>0</th>\n",
              "      <td>0</td>\n",
              "      <td>-5.2</td>\n",
              "      <td>37</td>\n",
              "      <td>2.2</td>\n",
              "      <td>2000</td>\n",
              "      <td>0.0</td>\n",
              "      <td>3</td>\n",
              "      <td>1</td>\n",
              "      <td>1</td>\n",
              "      <td>1</td>\n",
              "    </tr>\n",
              "    <tr>\n",
              "      <th>1</th>\n",
              "      <td>1</td>\n",
              "      <td>-5.5</td>\n",
              "      <td>38</td>\n",
              "      <td>0.8</td>\n",
              "      <td>2000</td>\n",
              "      <td>0.0</td>\n",
              "      <td>3</td>\n",
              "      <td>1</td>\n",
              "      <td>1</td>\n",
              "      <td>1</td>\n",
              "    </tr>\n",
              "    <tr>\n",
              "      <th>2</th>\n",
              "      <td>2</td>\n",
              "      <td>-6.0</td>\n",
              "      <td>39</td>\n",
              "      <td>1.0</td>\n",
              "      <td>2000</td>\n",
              "      <td>0.0</td>\n",
              "      <td>3</td>\n",
              "      <td>1</td>\n",
              "      <td>1</td>\n",
              "      <td>1</td>\n",
              "    </tr>\n",
              "    <tr>\n",
              "      <th>3</th>\n",
              "      <td>3</td>\n",
              "      <td>-6.2</td>\n",
              "      <td>40</td>\n",
              "      <td>0.9</td>\n",
              "      <td>2000</td>\n",
              "      <td>0.0</td>\n",
              "      <td>3</td>\n",
              "      <td>1</td>\n",
              "      <td>1</td>\n",
              "      <td>1</td>\n",
              "    </tr>\n",
              "    <tr>\n",
              "      <th>4</th>\n",
              "      <td>4</td>\n",
              "      <td>-6.0</td>\n",
              "      <td>36</td>\n",
              "      <td>2.3</td>\n",
              "      <td>2000</td>\n",
              "      <td>0.0</td>\n",
              "      <td>3</td>\n",
              "      <td>1</td>\n",
              "      <td>1</td>\n",
              "      <td>1</td>\n",
              "    </tr>\n",
              "    <tr>\n",
              "      <th>...</th>\n",
              "      <td>...</td>\n",
              "      <td>...</td>\n",
              "      <td>...</td>\n",
              "      <td>...</td>\n",
              "      <td>...</td>\n",
              "      <td>...</td>\n",
              "      <td>...</td>\n",
              "      <td>...</td>\n",
              "      <td>...</td>\n",
              "      <td>...</td>\n",
              "    </tr>\n",
              "    <tr>\n",
              "      <th>8755</th>\n",
              "      <td>19</td>\n",
              "      <td>4.2</td>\n",
              "      <td>34</td>\n",
              "      <td>2.6</td>\n",
              "      <td>1894</td>\n",
              "      <td>0.0</td>\n",
              "      <td>0</td>\n",
              "      <td>1</td>\n",
              "      <td>1</td>\n",
              "      <td>11</td>\n",
              "    </tr>\n",
              "    <tr>\n",
              "      <th>8756</th>\n",
              "      <td>20</td>\n",
              "      <td>3.4</td>\n",
              "      <td>37</td>\n",
              "      <td>2.3</td>\n",
              "      <td>2000</td>\n",
              "      <td>0.0</td>\n",
              "      <td>0</td>\n",
              "      <td>1</td>\n",
              "      <td>1</td>\n",
              "      <td>11</td>\n",
              "    </tr>\n",
              "    <tr>\n",
              "      <th>8757</th>\n",
              "      <td>21</td>\n",
              "      <td>2.6</td>\n",
              "      <td>39</td>\n",
              "      <td>0.3</td>\n",
              "      <td>1968</td>\n",
              "      <td>0.0</td>\n",
              "      <td>0</td>\n",
              "      <td>1</td>\n",
              "      <td>1</td>\n",
              "      <td>11</td>\n",
              "    </tr>\n",
              "    <tr>\n",
              "      <th>8758</th>\n",
              "      <td>22</td>\n",
              "      <td>2.1</td>\n",
              "      <td>41</td>\n",
              "      <td>1.0</td>\n",
              "      <td>1859</td>\n",
              "      <td>0.0</td>\n",
              "      <td>0</td>\n",
              "      <td>1</td>\n",
              "      <td>1</td>\n",
              "      <td>11</td>\n",
              "    </tr>\n",
              "    <tr>\n",
              "      <th>8759</th>\n",
              "      <td>23</td>\n",
              "      <td>1.9</td>\n",
              "      <td>43</td>\n",
              "      <td>1.3</td>\n",
              "      <td>1909</td>\n",
              "      <td>0.0</td>\n",
              "      <td>0</td>\n",
              "      <td>1</td>\n",
              "      <td>1</td>\n",
              "      <td>11</td>\n",
              "    </tr>\n",
              "  </tbody>\n",
              "</table>\n",
              "<p>8760 rows × 10 columns</p>\n",
              "</div>\n",
              "      <button class=\"colab-df-convert\" onclick=\"convertToInteractive('df-1a127396-192b-449d-a807-7afc62c39409')\"\n",
              "              title=\"Convert this dataframe to an interactive table.\"\n",
              "              style=\"display:none;\">\n",
              "        \n",
              "  <svg xmlns=\"http://www.w3.org/2000/svg\" height=\"24px\"viewBox=\"0 0 24 24\"\n",
              "       width=\"24px\">\n",
              "    <path d=\"M0 0h24v24H0V0z\" fill=\"none\"/>\n",
              "    <path d=\"M18.56 5.44l.94 2.06.94-2.06 2.06-.94-2.06-.94-.94-2.06-.94 2.06-2.06.94zm-11 1L8.5 8.5l.94-2.06 2.06-.94-2.06-.94L8.5 2.5l-.94 2.06-2.06.94zm10 10l.94 2.06.94-2.06 2.06-.94-2.06-.94-.94-2.06-.94 2.06-2.06.94z\"/><path d=\"M17.41 7.96l-1.37-1.37c-.4-.4-.92-.59-1.43-.59-.52 0-1.04.2-1.43.59L10.3 9.45l-7.72 7.72c-.78.78-.78 2.05 0 2.83L4 21.41c.39.39.9.59 1.41.59.51 0 1.02-.2 1.41-.59l7.78-7.78 2.81-2.81c.8-.78.8-2.07 0-2.86zM5.41 20L4 18.59l7.72-7.72 1.47 1.35L5.41 20z\"/>\n",
              "  </svg>\n",
              "      </button>\n",
              "      \n",
              "  <style>\n",
              "    .colab-df-container {\n",
              "      display:flex;\n",
              "      flex-wrap:wrap;\n",
              "      gap: 12px;\n",
              "    }\n",
              "\n",
              "    .colab-df-convert {\n",
              "      background-color: #E8F0FE;\n",
              "      border: none;\n",
              "      border-radius: 50%;\n",
              "      cursor: pointer;\n",
              "      display: none;\n",
              "      fill: #1967D2;\n",
              "      height: 32px;\n",
              "      padding: 0 0 0 0;\n",
              "      width: 32px;\n",
              "    }\n",
              "\n",
              "    .colab-df-convert:hover {\n",
              "      background-color: #E2EBFA;\n",
              "      box-shadow: 0px 1px 2px rgba(60, 64, 67, 0.3), 0px 1px 3px 1px rgba(60, 64, 67, 0.15);\n",
              "      fill: #174EA6;\n",
              "    }\n",
              "\n",
              "    [theme=dark] .colab-df-convert {\n",
              "      background-color: #3B4455;\n",
              "      fill: #D2E3FC;\n",
              "    }\n",
              "\n",
              "    [theme=dark] .colab-df-convert:hover {\n",
              "      background-color: #434B5C;\n",
              "      box-shadow: 0px 1px 3px 1px rgba(0, 0, 0, 0.15);\n",
              "      filter: drop-shadow(0px 1px 2px rgba(0, 0, 0, 0.3));\n",
              "      fill: #FFFFFF;\n",
              "    }\n",
              "  </style>\n",
              "\n",
              "      <script>\n",
              "        const buttonEl =\n",
              "          document.querySelector('#df-1a127396-192b-449d-a807-7afc62c39409 button.colab-df-convert');\n",
              "        buttonEl.style.display =\n",
              "          google.colab.kernel.accessAllowed ? 'block' : 'none';\n",
              "\n",
              "        async function convertToInteractive(key) {\n",
              "          const element = document.querySelector('#df-1a127396-192b-449d-a807-7afc62c39409');\n",
              "          const dataTable =\n",
              "            await google.colab.kernel.invokeFunction('convertToInteractive',\n",
              "                                                     [key], {});\n",
              "          if (!dataTable) return;\n",
              "\n",
              "          const docLinkHtml = 'Like what you see? Visit the ' +\n",
              "            '<a target=\"_blank\" href=https://colab.research.google.com/notebooks/data_table.ipynb>data table notebook</a>'\n",
              "            + ' to learn more about interactive tables.';\n",
              "          element.innerHTML = '';\n",
              "          dataTable['output_type'] = 'display_data';\n",
              "          await google.colab.output.renderOutput(dataTable, element);\n",
              "          const docLink = document.createElement('div');\n",
              "          docLink.innerHTML = docLinkHtml;\n",
              "          element.appendChild(docLink);\n",
              "        }\n",
              "      </script>\n",
              "    </div>\n",
              "  </div>\n",
              "  "
            ]
          },
          "metadata": {},
          "execution_count": 29
        }
      ]
    },
    {
      "cell_type": "code",
      "source": [
        "X = bikedata[significant_col]\n",
        "y = bikedata['Rented Bike Count']"
      ],
      "metadata": {
        "id": "0XxyLZ_KWK3v"
      },
      "execution_count": null,
      "outputs": []
    },
    {
      "cell_type": "markdown",
      "source": [
        "KMEANS"
      ],
      "metadata": {
        "id": "TLWyf032yMgi"
      }
    },
    {
      "cell_type": "code",
      "source": [
        "# calculate distortion for a range of number of cluster\n",
        "distortions = []\n",
        "figure(figsize=(16, 8), dpi=80)\n",
        "\n",
        "for i in range(2, 10):\n",
        "    km = KMeans(\n",
        "        n_clusters=i, init='random',\n",
        "        n_init=10, max_iter=300,\n",
        "        tol=1e-04, random_state=0\n",
        "    )\n",
        "    km.fit(X)\n",
        "    distortions.append(km.inertia_)\n",
        "\n",
        "# plot\n",
        "#Obtain the best value of K using SSE\n",
        "plt.plot(range(2, 10), distortions, marker='o')\n",
        "plt.title('The Elbow Method')\n",
        "plt.xlabel('Number of clusters')\n",
        "plt.ylabel('Distortion')\n",
        "plt.show()"
      ],
      "metadata": {
        "colab": {
          "base_uri": "https://localhost:8080/",
          "height": 601
        },
        "id": "Jg17ziqSWdUh",
        "outputId": "d8596483-a1fb-482d-d949-fd4ab6f8bec4"
      },
      "execution_count": null,
      "outputs": [
        {
          "output_type": "display_data",
          "data": {
            "text/plain": [
              "<Figure size 1280x640 with 1 Axes>"
            ],
            "image/png": "[encoded data removed]"
          },
          "metadata": {}
        }
      ]
    },
    {
      "cell_type": "code",
      "source": [
        "start = time.time()\n",
        "kmeans_best_clusters = 3\n",
        "kmeans = KMeans(n_clusters=kmeans_best_clusters, random_state=0,).fit(X) # By using an Elbow Method for K-means clustering we find the optimal number of clusters to be = 3\n",
        "\n",
        "# X['kmeans'] = kmeans.labels_\n",
        "# display(X.cluster.value_counts())\n",
        "\n",
        "print(f\"Kmeans Optimal Clusters: {kmeans_best_clusters}\")\n",
        "print(f\"Kmeans Time: {round(time.time() - start,3)}s\")\n",
        "# print(f\"SSE: {kmeans.inertia_}\")\n",
        "kmeans_davis_bouldin = metrics.davies_bouldin_score(X, kmeans.labels_)\n",
        "print(f\"Davis-Bouldin: {kmeans_davis_bouldin:.2f}\")\n",
        "kmeans_csm = silhouette_score(X, kmeans.labels_, metric='euclidean')\n",
        "print('CSM: %.3f' % kmeans_csm)\n",
        "\n",
        "visualizer = SilhouetteVisualizer(kmeans, colors='yellowbrick')\n",
        "visualizer.fit(X)        # Fit the data to the visualizer\n",
        "visualizer.show()        # Finalize and render the figure"
      ],
      "metadata": {
        "colab": {
          "base_uri": "https://localhost:8080/",
          "height": 485
        },
        "id": "38HsCqonWlxJ",
        "outputId": "68a85713-2bd9-4b8e-ae65-e22f5ec95215"
      },
      "execution_count": null,
      "outputs": [
        {
          "output_type": "stream",
          "name": "stdout",
          "text": [
            "Kmeans Optimal Clusters: 3\n",
            "Kmeans Time: 0.158s\n",
            "Davis-Bouldin: 0.46\n",
            "CSM: 0.694\n"
          ]
        },
        {
          "output_type": "display_data",
          "data": {
            "text/plain": [
              "<Figure size 576x396 with 1 Axes>"
            ],
            "image/png": "[encoded data removed]"
          },
          "metadata": {}
        },
        {
          "output_type": "execute_result",
          "data": {
            "text/plain": [
              "<matplotlib.axes._subplots.AxesSubplot at 0x7f2c06b87790>"
            ]
          },
          "metadata": {},
          "execution_count": 122
        }
      ]
    },
    {
      "cell_type": "markdown",
      "source": [
        "DBSCAN"
      ],
      "metadata": {
        "id": "q-6xz91lyPT9"
      }
    },
    {
      "cell_type": "code",
      "source": [
        "start = time.time()\n",
        "db = DBSCAN(eps=3, min_samples=2).fit(X)\n",
        "# X['dbscan'] = db.labels_\n",
        "\n",
        "print(f\"DBSCAN Time: {round(time.time() - start,3)}s\")\n",
        "db_davis_bouldin = metrics.davies_bouldin_score(X, db.labels_)\n",
        "print(f\"Davis-Bouldin: {db_davis_bouldin:.2f}\")\n",
        "db_csm = metrics.silhouette_score(X, db.labels_)\n",
        "print(f\"CSM: {db_csm:.2f}\")\n",
        "\n",
        "# db.n_clusters = len(set(db.labels_))\n",
        "\n",
        "# visualizer = SilhouetteVisualizer(db, colors='yellowbrick', is_fitted=True)\n",
        "# visualizer.fit(X)        # Fit the data to the visualizer\n",
        "# visualizer.show()        # Finalize and render the figure\n"
      ],
      "metadata": {
        "colab": {
          "base_uri": "https://localhost:8080/"
        },
        "id": "nJI-3CS0ymik",
        "outputId": "50761b8c-025c-4843-bb34-6f7e9ef0ab03"
      },
      "execution_count": null,
      "outputs": [
        {
          "output_type": "stream",
          "name": "stdout",
          "text": [
            "DBSCAN Time: 0.119s\n",
            "Davis-Bouldin: 1.32\n",
            "CSM: -0.71\n"
          ]
        }
      ]
    },
    {
      "cell_type": "markdown",
      "source": [
        "Agglomerative Clustering"
      ],
      "metadata": {
        "id": "7ib5QLg85EdA"
      }
    },
    {
      "cell_type": "code",
      "source": [
        "# calculate distortion for a range of number of cluster\n",
        "distortions = []\n",
        "figure(figsize=(16, 8), dpi=80)\n",
        "\n",
        "for i in range(2, 10):\n",
        "    agg = AgglomerativeClustering(n_clusters=i)\n",
        "    agg.fit(X)\n",
        "    agg_davis_bouldin = metrics.davies_bouldin_score(X, agg.labels_)\n",
        "    distortions.append(agg_davis_bouldin)\n",
        "\n",
        "# plot\n",
        "#Obtain the best value of K using SSE\n",
        "plt.plot(range(2, 10), distortions, marker='o')\n",
        "plt.title('The Elbow Method')\n",
        "plt.xlabel('Number of clusters')\n",
        "plt.ylabel('Distortion')\n",
        "plt.show()"
      ],
      "metadata": {
        "colab": {
          "base_uri": "https://localhost:8080/",
          "height": 601
        },
        "id": "6VLt6g175EC4",
        "outputId": "84434860-6756-4eab-8085-b290657c5100"
      },
      "execution_count": null,
      "outputs": [
        {
          "output_type": "display_data",
          "data": {
            "text/plain": [
              "<Figure size 1280x640 with 1 Axes>"
            ],
            "image/png": "[encoded data removed]"
          },
          "metadata": {}
        }
      ]
    },
    {
      "cell_type": "code",
      "source": [
        "start = time.time()\n",
        "agg_best_clusters = 2\n",
        "agg = AgglomerativeClustering(n_clusters=i).fit(X)\n",
        "\n",
        "print(f\"Agglomerative Optimal Clusters: {agg_best_clusters}\")\n",
        "print(f\"Agglomerative Time: {round(time.time() - start,3)}s\")\n",
        "# print(f\"SSE: {kmeans.inertia_}\")\n",
        "agg_davis_bouldin = metrics.davies_bouldin_score(X, agg.labels_)\n",
        "print(f\"Davis-Bouldin: {agg_davis_bouldin:.2f}\")\n",
        "agg_csm = silhouette_score(X, agg.labels_, metric='euclidean')\n",
        "print('CSM: %.3f' % agg_csm)\n",
        "\n",
        "# visualizer = SilhouetteVisualizer(agg, colors='yellowbrick')\n",
        "# visualizer.fit(X)        # Fit the data to the visualizer\n",
        "# visualizer.show()        # Finalize and render the figure"
      ],
      "metadata": {
        "id": "6JKEDjl2uUGO",
        "colab": {
          "base_uri": "https://localhost:8080/"
        },
        "outputId": "75b41b15-d308-4d49-8659-050b3117331c"
      },
      "execution_count": null,
      "outputs": [
        {
          "output_type": "stream",
          "name": "stdout",
          "text": [
            "Agglomerative Optimal Clusters: 2\n",
            "Agglomerative Time: 4.787s\n",
            "Davis-Bouldin: 0.56\n",
            "CSM: 0.563\n"
          ]
        }
      ]
    },
    {
      "cell_type": "code",
      "source": [
        ""
      ],
      "metadata": {
        "id": "tKUUr8MCuUIq"
      },
      "execution_count": null,
      "outputs": []
    },
    {
      "cell_type": "code",
      "source": [
        ""
      ],
      "metadata": {
        "id": "dIkQS-FTuUL0"
      },
      "execution_count": null,
      "outputs": []
    },
    {
      "cell_type": "code",
      "source": [
        ""
      ],
      "metadata": {
        "id": "mKLEuOuOuUOT"
      },
      "execution_count": null,
      "outputs": []
    },
    {
      "cell_type": "code",
      "source": [
        "# centroids = np.array(kmeans.cluster_centers_)\n",
        "# centroids = PCA(n_components=2).fit_transform(centroids)"
      ],
      "metadata": {
        "id": "4MKJtTxsXXz-"
      },
      "execution_count": null,
      "outputs": []
    },
    {
      "cell_type": "code",
      "source": [
        "# # Run PCA on the data and reduce the dimensions in pca_num_components dimensions\n",
        "# reduced_data = PCA(n_components=2).fit_transform(X)\n",
        "# results = pd.DataFrame(reduced_data,columns=['pca1','pca2'])\n",
        "# centroids_x = centroids[:,0]\n",
        "# centroids_y = centroids[:,1]\n",
        "# ax = sns.set(rc={\"figure.figsize\":(24, 12)})\n",
        "# ax = sns.scatterplot(x=\"pca1\", y=\"pca2\", hue=X['cluster'], data=results, palette=\"bright\", alpha=0.6, s=50, legend='full')\n",
        "# ax = sns.scatterplot(centroids_x, centroids_y, hue=range(kmeans.n_clusters),s=100, palette=\"bright\", ec='black', legend=False, marker='X',ax=ax)\n",
        "# plt.title('K-means Clustering with 2 dimensions')\n",
        "# plt.show()"
      ],
      "metadata": {
        "id": "WD-Agc5AXvvH"
      },
      "execution_count": null,
      "outputs": []
    },
    {
      "cell_type": "code",
      "source": [
        "# bikedata['Date'] = pd.to_numeric(pd.to_datetime(bikedata['Date']))\n",
        "# # label encoding\n",
        "\n",
        "# label_encoder = LabelEncoder()\n",
        "# # Encode labels in column 'species'.\n",
        "# bikedata['Seasons']= label_encoder.fit_transform(bikedata['Seasons'])\n",
        "# bikedata['Seasons'].unique()\n",
        "\n",
        "# # Encode labels in column ''.\n",
        "# bikedata['Holiday']= label_encoder.fit_transform(bikedata['Holiday'])\n",
        "# bikedata['Holiday'].unique()\n",
        "\n",
        "# # Encode labels in column ''.\n",
        "# bikedata['Functioning Day']= label_encoder.fit_transform(bikedata['Functioning Day'])\n",
        "# bikedata['Functioning Day'].unique()\n",
        "\n",
        "# # Encode labels in column ''.\n",
        "# bikedata['WeekDay']= label_encoder.fit_transform(bikedata['WeekDay'])\n",
        "# bikedata['WeekDay'].unique()\n",
        "\n",
        "# kmeans_kwargs = {\n",
        "#     \"init\": \"random\",\n",
        "#     \"n_init\": 10,\n",
        "#     \"max_iter\": 300,\n",
        "#     \"random_state\": 40,\n",
        "#     }\n",
        "\n",
        "\n",
        "# # A list holds the silhouette coefficients for each k\n",
        "# silhouette_coefficients = []\n",
        "# # Notice you start at 2 clusters for silhouette coefficient\n",
        "# for k in range(2, 11):\n",
        "#   kmeans = KMeans(n_clusters=k, **kmeans_kwargs)\n",
        "#   kmeans.fit(bikedata)\n",
        "#   score = silhouette_score(bikedata, kmeans.labels_)\n",
        "#   silhouette_coefficients.append(score)\n",
        "\n",
        "# plt.style.use(\"fivethirtyeight\")\n",
        "# plt.plot(range(2, 11), silhouette_coefficients)\n",
        "# plt.xticks(range(2, 11))\n",
        "# plt.xlabel(\"Number of Clusters\")\n",
        "# plt.ylabel(\"Silhouette Coefficient\")\n",
        "# plt.show()"
      ],
      "metadata": {
        "id": "IEX55kwQch4x"
      },
      "execution_count": null,
      "outputs": []
    },
    {
      "cell_type": "code",
      "source": [
        "# import numpy as np\n",
        "# from sklearn.neighbors import NearestNeighbors\n",
        "# # n_neighbors = 8 as kneighbors function returns distance of point to itself (i.e. first column will be zeros) \n",
        "# nbrs = NearestNeighbors(n_neighbors=8).fit(bikedata)\n",
        "# # Find the k-neighbors of a point\n",
        "# neigh_dist, neigh_ind = nbrs.kneighbors(bikedata)\n",
        "# # sort the neighbor distances (lengths to points) in ascending order\n",
        "# # axis = 0 represents sort along first axis i.e. sort along row\n",
        "# sort_neigh_dist = np.sort(neigh_dist, axis=0)\n",
        "\n",
        "# import matplotlib.pyplot as plt\n",
        "# k_dist = sort_neigh_dist[:, 7]\n",
        "# plt.plot(k_dist)\n",
        "# plt.axhline(y=2.5, linewidth=1, linestyle='dashed', color='k')\n",
        "# plt.ylabel(\"k-NN distance\")\n",
        "# plt.xlabel(\"Sorted observations (4th NN)\")\n",
        "# plt.show()\n",
        "\n",
        "# from sklearn.cluster import DBSCAN\n",
        "# from sklearn import metrics\n",
        "# from sklearn.preprocessing import QuantileTransformer\n",
        "# #Initialize our scaler\n",
        "# scaler = QuantileTransformer(output_distribution='uniform')\n",
        "# X = pd.DataFrame(scaler.fit_transform(bikedata))\n",
        "\n",
        "# # Compute DBSCAN\n",
        "# db = DBSCAN(eps=0.3, min_samples=10).fit(X)\n",
        "# core_samples_mask = np.zeros_like(db.labels_, dtype=bool)\n",
        "# core_samples_mask[db.core_sample_indices_] = True\n",
        "# labels = db.labels_\n",
        "\n",
        "# # Number of clusters in labels, ignoring noise if present.\n",
        "# n_clusters_ = len(set(labels)) - (1 if -1 in labels else 0)\n",
        "# n_noise_ = list(labels).count(-1)\n",
        "\n",
        "# print('Estimated number of clusters: %d' % n_clusters_)\n",
        "# print('Estimated number of noise points: %d' % n_noise_)\n"
      ],
      "metadata": {
        "id": "bbbNEDUYvIsM"
      },
      "execution_count": null,
      "outputs": []
    },
    {
      "cell_type": "code",
      "source": [
        "comments: \n",
        "\n",
        "#all with csm plots\n",
        "\n",
        "#DBSCAN w/ CSM\n",
        "#Hierarchial w/ CSM\n",
        "\n",
        "#question 2\n",
        "\n",
        "\n"
      ],
      "metadata": {
        "id": "twzZs7CiDA0J"
      },
      "execution_count": null,
      "outputs": []
    }
  ]
}